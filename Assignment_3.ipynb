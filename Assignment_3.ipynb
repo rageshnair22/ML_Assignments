{
 "cells": [
  {
   "cell_type": "markdown",
   "metadata": {},
   "source": [
    "# Task 1:"
   ]
  },
  {
   "cell_type": "markdown",
   "metadata": {},
   "source": [
    "1.\n",
    "Write a function to compute 5/0 and use try/except to catch the exceptions.\n",
    "\n"
   ]
  },
  {
   "cell_type": "code",
   "execution_count": 1,
   "metadata": {},
   "outputs": [],
   "source": [
    "def dividebyzero(dividend,divisor):\n",
    "    try:\n",
    "        return \"Output of \" + str(dividend) + '/' + str(divisor) + \" is : \" + str(dividend/divisor)\n",
    "    except ZeroDivisionError:\n",
    "        return \"Encountered Zero Division Error please give divisor value greater than 0\""
   ]
  },
  {
   "cell_type": "code",
   "execution_count": 2,
   "metadata": {},
   "outputs": [
    {
     "name": "stdout",
     "output_type": "stream",
     "text": [
      "Output of 5/1 is : 5.0\n",
      "Encountered Zero Division Error please give divisor value greater than 0\n"
     ]
    }
   ],
   "source": [
    "print(dividebyzero(5,1))\n",
    "print(dividebyzero(5,0))"
   ]
  },
  {
   "cell_type": "markdown",
   "metadata": {},
   "source": [
    "2.\n",
    "Implement a Python program to generate all sentences where subject is in [\"Americans\", \"Indians\"] and verb is in [\"Play\", \"watch\"] and the object is in [\"Baseball\",\"cricket\"].\n",
    "\n",
    "Hint: Subject,Verb and Object should be declared in the program as shown below.\n",
    "\n",
    "subjects=[\"Americans \",\"Indians\"]\n",
    "\n",
    "verbs=[\"play\",\"watch\"] \n",
    "\n",
    "objects=[\"Baseball\",\"Cricket\"]\n",
    "\n",
    "Output should come as below:\n",
    "\n",
    "Americans play Baseball. \n",
    "\n",
    "Americans play Cricket. \n",
    "\n",
    "Americans watch Baseball. \n",
    "\n",
    "Americans watch Cricket. \n",
    "\n",
    "Indians play Baseball. \n",
    "\n",
    "Indians play Cricket. \n",
    "\n",
    "Indians watch Baseball. \n",
    "\n",
    "Indians watch Cricket."
   ]
  },
  {
   "cell_type": "code",
   "execution_count": 3,
   "metadata": {},
   "outputs": [
    {
     "name": "stdout",
     "output_type": "stream",
     "text": [
      "Americans play Baseball.\n",
      "Americans play Cricket.\n",
      "Americans watch Baseball.\n",
      "Americans watch Cricket.\n",
      "Indians play Baseball.\n",
      "Indians play Cricket.\n",
      "Indians watch Baseball.\n",
      "Indians watch Cricket.\n"
     ]
    }
   ],
   "source": [
    "subjects=[\"Americans\",\"Indians\"]\n",
    "\n",
    "verbs=[\"play\",\"watch\"]\n",
    "\n",
    "objects=[\"Baseball\",\"Cricket\"]\n",
    "\n",
    "whole_sentence = [print(sub + \" \" + verb + \" \" + obj + \".\") for sub in subjects for verb in verbs for obj in objects]"
   ]
  },
  {
   "cell_type": "markdown",
   "metadata": {},
   "source": [
    "## Task 2:"
   ]
  },
  {
   "cell_type": "markdown",
   "metadata": {},
   "source": [
    "1.\n",
    "Write a function so that the columns of the output matrix are powers of the input vector.\n",
    "\n",
    "The order of the powers is determined by the increasing boolean argument. Specifically, when increasing is False, the i-th output column is the input vector raised element-wise to the power of N - i - 1.\n",
    "\n",
    "HINT: Such a matrix with a geometric progression in each row is named for Alexandre- Theophile Vandermonde."
   ]
  },
  {
   "cell_type": "code",
   "execution_count": 4,
   "metadata": {},
   "outputs": [],
   "source": [
    "def vanfunction(input_vector,N,inc_param):\n",
    "    import numpy as np\n",
    "    input = np.array(input_vector)\n",
    "    return np.vander(input,N,increasing=inc_param)"
   ]
  },
  {
   "cell_type": "code",
   "execution_count": 5,
   "metadata": {},
   "outputs": [
    {
     "name": "stdout",
     "output_type": "stream",
     "text": [
      "[[ 1  4 16 64]\n",
      " [ 1  3  9 27]\n",
      " [ 1  2  4  8]\n",
      " [ 1  1  1  1]]\n",
      "[[  1   1   1   1]\n",
      " [ 27   9   3   1]\n",
      " [125  25   5   1]\n",
      " [343  49   7   1]]\n"
     ]
    }
   ],
   "source": [
    "print(vanfunction([4,3,2,1],4,True))\n",
    "print(vanfunction([1,3,5,7],4,False))"
   ]
  }
 ],
 "metadata": {
  "kernelspec": {
   "display_name": "Python 3",
   "language": "python",
   "name": "python3"
  },
  "language_info": {
   "codemirror_mode": {
    "name": "ipython",
    "version": 3
   },
   "file_extension": ".py",
   "mimetype": "text/x-python",
   "name": "python",
   "nbconvert_exporter": "python",
   "pygments_lexer": "ipython3",
   "version": "3.7.3"
  }
 },
 "nbformat": 4,
 "nbformat_minor": 2
}
